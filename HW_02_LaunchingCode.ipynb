{
 "cells": [
  {
   "cell_type": "code",
   "execution_count": null,
   "metadata": {},
   "outputs": [],
   "source": [
    "# Author: Judy Zuo\n",
    "# Date: 2020 02 07\n",
    "# CS301-006, Professor Watson\n",
    "# HW02 Solution\n",
    "# find the min, qi, q2, q3, max and outliers of a list\n",
    "# link to the git repo :   https://github.com/judy756/HW-CS301\n",
    "# link-to-the-relevant-git-commit \n",
    "#      https://github.com/judy756/HW-CS301/commit/e0b23d84674a0e2cc7cfebf5079638428ff2e752
    "# name-of-the-branch : master"
   ]
  },
  {
   "cell_type": "markdown",
   "metadata": {},
   "source": [
    "## HW 02 - Base Code to Start"
   ]
  },
  {
   "cell_type": "markdown",
   "metadata": {},
   "source": [
    "#### Use these two samples to test your functions"
   ]
  },
  {
   "cell_type": "code",
   "execution_count": 5,
   "metadata": {},
   "outputs": [],
   "source": [
    "grades = [0, 0, 14, 35, 63, 66, 75, 77, 78, 80, 81, 81, 87, 89, 90, 91, 100]"
   ]
  },
  {
   "cell_type": "code",
   "execution_count": 6,
   "metadata": {},
   "outputs": [],
   "source": [
    "times = [5, 10, 10, 15, 15, 15, 15, 20, 20, 20, 25, 30, 30, 40, 40, 45, 60, 60, 65, 89]"
   ]
  },
  {
   "cell_type": "markdown",
   "metadata": {},
   "source": [
    "### Please answer Problem 2 below:"
   ]
  },
  {
   "cell_type": "code",
   "execution_count": 29,
   "metadata": {},
   "outputs": [],
   "source": [
    "import numpy as np\n",
    "def q_summary_V1(n):\n",
    "    dic = {'min': n[0], 'q1': np.quantile(n, .25), 'q2': np.quantile(n, .50), \n",
    "           'q3': np.quantile(n, .75), 'max' : n[0]};\n",
    "    out = [];  # store outliers\n",
    "    lis = [];  # list of numbers without oultiers\n",
    "    iqr = dic['q3'] - dic['q1'];\n",
    "    low = dic['q1'] - 1.5*iqr;  # lower range of safe zone\n",
    "    high = dic['q3'] + 1.5*iqr;  #upper range of safe zone\n",
    "    \n",
    "    # detect outliers and put numbers that are not outliers into lis\n",
    "    for num in n:\n",
    "        if (num < low):\n",
    "            out.append(num);\n",
    "            continue\n",
    "        if (num > high):\n",
    "            out.append(num);\n",
    "            continue\n",
    "        lis.append(num);\n",
    "        \n",
    "    # find min and max \n",
    "    dic['min'] = lis[0];\n",
    "    dic['max'] = lis[0];\n",
    "    for num in lis:\n",
    "        if (dic['min'] > num ):\n",
    "            dic['min'] = num;\n",
    "        if (dic['max'] < num ):\n",
    "            dic['max'] = num;\n",
    "    \n",
    "    # results\n",
    "    if (len(out) > 0):\n",
    "        print(\"The following are outliers :\", out);\n",
    "    return dic;\n",
    "    "
   ]
  },
  {
   "cell_type": "code",
   "execution_count": 30,
   "metadata": {},
   "outputs": [
    {
     "name": "stdout",
     "output_type": "stream",
     "text": [
      "The following are outliers : [0, 0, 14]\n",
      "{'min': 35, 'q1': 63.0, 'q2': 78.0, 'q3': 87.0, 'max': 100}\n"
     ]
    }
   ],
   "source": [
    "print(q_summary_V1(grades));"
   ]
  },
  {
   "cell_type": "code",
   "execution_count": 28,
   "metadata": {},
   "outputs": [
    {
     "name": "stdout",
     "output_type": "stream",
     "text": [
      "The following are outliers : [89]\n",
      "{'min': 5, 'q1': 15.0, 'q2': 22.5, 'q3': 41.25, 'max': 65}\n"
     ]
    }
   ],
   "source": [
    "print(q_summary_V1(times));"
   ]
  },
  {
   "cell_type": "code",
   "execution_count": null,
   "metadata": {},
   "outputs": [],
   "source": []
  },
  {
   "cell_type": "code",
   "execution_count": null,
   "metadata": {},
   "outputs": [],
   "source": []
  },
  {
   "cell_type": "code",
   "execution_count": null,
   "metadata": {},
   "outputs": [],
   "source": []
  },
  {
   "cell_type": "markdown",
   "metadata": {},
   "source": [
    "### Please answer Problem 3 below:"
   ]
  },
  {
   "cell_type": "code",
   "execution_count": 41,
   "metadata": {},
   "outputs": [],
   "source": [
    "def get_quantile_indexes(n, p):\n",
    "    '''\n",
    "    Calculate index values as input for interpolation\n",
    "    \n",
    "    input\n",
    "    _____\n",
    "    n (list) - the list of numbers\n",
    "    p (float) - the percentage corresponding to the quantile (ex:0.25)\n",
    "    \n",
    "    output\n",
    "    ______\n",
    "    l, i, u (float) - the corresponding x1, x, x1 values as calculated via class\n",
    "    '''\n",
    "    i = p*(n+1) - 1\n",
    "    l = np.floor(i)\n",
    "    u = np.ceil(i)\n",
    "    return l,i,u\n",
    "\n",
    "\n",
    "def get_quantile(nums, q):\n",
    "    '''\n",
    "    Use the in-class method of interpolation to calculate the quantile\n",
    "    \n",
    "    input\n",
    "    _____\n",
    "    nums (list) - the list of numbers\n",
    "    q (float) - the quantile desired\n",
    "    \n",
    "    output\n",
    "    ______\n",
    "    y (int/float) - this is the value in nums at the given quantile q\n",
    "    '''\n",
    "    x1, x, x2 = get_quantile_indexes(len(nums), q)\n",
    "    if np.floor(x) == x1 and np.ceil(x) == x1:\n",
    "        x = int(x)\n",
    "        y = nums[x]\n",
    "        # print('x = {}, y = {}'.format(x, y))\n",
    "        return y\n",
    "        \n",
    "    # print('x1, x, x2 = {}, {}, {}'.format(x1, x, x2))\n",
    "    y1, y2 = nums[int(x1)], nums[int(x2)]\n",
    "    # print('y1, y2 = {}, {}'.format(y1, y2))\n",
    "    y = (x - x1) * (y1-y2) / (x1 - x2) + y1\n",
    "    # print('y =', y)\n",
    "    return y"
   ]
  },
  {
   "cell_type": "code",
   "execution_count": 42,
   "metadata": {},
   "outputs": [],
   "source": [
    "import numpy as np\n",
    "def q_summary_V2(n):\n",
    "    dic = {'min': n[0], 'q1': get_quantile(n, .25), 'q2': get_quantile(n, .50), \n",
    "           'q3': get_quantile(n, .75), 'max' : n[0]};\n",
    "    out = [];  # store outliers\n",
    "    lis = [];  # list of numbers without oultiers\n",
    "    iqr = dic['q3'] - dic['q1'];\n",
    "    low = dic['q1'] - 1.5*iqr;  # lower range of safe zone\n",
    "    high = dic['q3'] + 1.5*iqr;  #upper range of safe zone\n",
    "    \n",
    "    # detect outliers and put numbers that are not outliers into lis\n",
    "    for num in n:\n",
    "        if (num < low):\n",
    "            out.append(num);\n",
    "            continue\n",
    "        if (num > high):\n",
    "            out.append(num);\n",
    "            continue\n",
    "        lis.append(num);\n",
    "        \n",
    "    # find min and max \n",
    "    dic['min'] = lis[0];\n",
    "    dic['max'] = lis[0];\n",
    "    for num in lis:\n",
    "        if (dic['min'] > num ):\n",
    "            dic['min'] = num;\n",
    "        if (dic['max'] < num ):\n",
    "            dic['max'] = num;\n",
    "    \n",
    "    # results\n",
    "    if (len(out) > 0):\n",
    "        print(\"The following are outliers :\", out);\n",
    "    return dic;\n",
    "    "
   ]
  },
  {
   "cell_type": "code",
   "execution_count": 43,
   "metadata": {},
   "outputs": [
    {
     "name": "stdout",
     "output_type": "stream",
     "text": [
      "{'min': 0, 'q1': 49.0, 'q2': 78, 'q3': 88.0, 'max': 100}\n"
     ]
    }
   ],
   "source": [
    "print(q_summary_V2(grades));"
   ]
  },
  {
   "cell_type": "code",
   "execution_count": 44,
   "metadata": {},
   "outputs": [
    {
     "name": "stdout",
     "output_type": "stream",
     "text": [
      "The following are outliers : [89]\n",
      "{'min': 5, 'q1': 15.0, 'q2': 22.5, 'q3': 43.75, 'max': 65}\n"
     ]
    }
   ],
   "source": [
    "print(q_summary_V2(times));"
   ]
  },
  {
   "cell_type": "code",
   "execution_count": null,
   "metadata": {},
   "outputs": [],
   "source": []
  }
 ],
 "metadata": {
  "kernelspec": {
   "display_name": "Python 3",
   "language": "python",
   "name": "python3"
  },
  "language_info": {
   "codemirror_mode": {
    "name": "ipython",
    "version": 3
   },
   "file_extension": ".py",
   "mimetype": "text/x-python",
   "name": "python",
   "nbconvert_exporter": "python",
   "pygments_lexer": "ipython3",
   "version": "3.7.4"
  }
 },
 "nbformat": 4,
 "nbformat_minor": 2
}
