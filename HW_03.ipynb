{
 "cells": [
  {
   "cell_type": "code",
   "execution_count": 1,
   "metadata": {},
   "outputs": [],
   "source": [
    "# Author: Judy Zuo\n",
    "# Date: 2020 02 14\n",
    "# CS301-006, Professor Watson\n",
    "# HW03 Solution\n",
    "# methods to read data from file, find the number of outliers and find the std\n",
    "# link to the git repo :   https://github.com/judy756/HW-CS301\n",
    "# link-to-the-relevant-git-commit \n",
    "#      https://github.com/judy756/HW-CS301/commit/3187ab186230069813ff3ec598f74ffd6210a91b\n",
    "# name-of-the-branch : master\n"
   ]
  },
  {
   "cell_type": "markdown",
   "metadata": {},
   "source": [
    "## HW 03"
   ]
  },
  {
   "cell_type": "markdown",
   "metadata": {},
   "source": [
    "### Problem 1"
   ]
  },
  {
   "cell_type": "code",
   "execution_count": 6,
   "metadata": {},
   "outputs": [],
   "source": [
    "import pandas as pd\n"
   ]
  },
  {
   "cell_type": "code",
   "execution_count": 2,
   "metadata": {},
   "outputs": [],
   "source": [
    "def data_reader(data_path):\n",
    "    file_name = data_path;\n",
    "    try:\n",
    "        file = pd.read_csv(file_name);\n",
    "        frame = pd.DataFrame(file);\n",
    "        print('The shape is: ', frame.shape);\n",
    "        return frame;\n",
    "    except IOError:\n",
    "        print('Error during reading, please try again');\n",
    "        return None;\n",
    "    "
   ]
  },
  {
   "cell_type": "code",
   "execution_count": 3,
   "metadata": {
    "scrolled": false
   },
   "outputs": [
    {
     "name": "stdout",
     "output_type": "stream",
     "text": [
      "The shape is:  (193, 6)\n"
     ]
    }
   ],
   "source": [
    "my = data_reader('C:\\\\Users\\\\judyz\\\\OneDrive\\\\Documents\\\\drinks.csv')"
   ]
  },
  {
   "cell_type": "code",
   "execution_count": 29,
   "metadata": {},
   "outputs": [
    {
     "name": "stdout",
     "output_type": "stream",
     "text": [
      "Error during reading, please try again\n"
     ]
    }
   ],
   "source": [
    "data_reader('drink.csv')"
   ]
  },
  {
   "cell_type": "markdown",
   "metadata": {},
   "source": [
    "### Problem 2"
   ]
  },
  {
   "cell_type": "code",
   "execution_count": 4,
   "metadata": {},
   "outputs": [],
   "source": [
    "def get_num_outliers(df, col):\n",
    "    columns_to_query = [col];\n",
    "    numeric_cols = df[columns_to_query];\n",
    "    summary_df = numeric_cols.describe();\n",
    "    q1 = summary_df[col].loc['25%'];\n",
    "    q3 = summary_df[col].loc['75%'];\n",
    "    print(summary_df);\n",
    "    out_df = df.loc[(df[col]<q1) | (df[col]>q3)];\n",
    "    \n",
    "    return out_df.sum(axis = 1);"
   ]
  },
  {
   "cell_type": "code",
   "execution_count": 7,
   "metadata": {},
   "outputs": [
    {
     "name": "stdout",
     "output_type": "stream",
     "text": [
      "       wine_servings\n",
      "count     193.000000\n",
      "mean       49.450777\n",
      "std        79.697598\n",
      "min         0.000000\n",
      "25%         1.000000\n",
      "50%         8.000000\n",
      "75%        59.000000\n",
      "max       370.000000\n"
     ]
    },
    {
     "data": {
      "text/plain": [
       "0        0.0\n",
       "3      707.4\n",
       "6      447.3\n",
       "8      555.4\n",
       "9      554.7\n",
       "       ...  \n",
       "179     62.3\n",
       "182    550.4\n",
       "184    499.7\n",
       "185    376.6\n",
       "190      6.1\n",
       "Length: 79, dtype: float64"
      ]
     },
     "execution_count": 7,
     "metadata": {},
     "output_type": "execute_result"
    }
   ],
   "source": [
    "get_num_outliers(my, 'wine_servings')"
   ]
  },
  {
   "cell_type": "markdown",
   "metadata": {},
   "source": [
    "### Problem 3"
   ]
  },
  {
   "cell_type": "code",
   "execution_count": 8,
   "metadata": {},
   "outputs": [],
   "source": [
    "def get_num_deviants(df, col, multiplier):\n",
    "    columns_to_query = [col];\n",
    "    numeric_cols = df[columns_to_query];\n",
    "    summary_df = numeric_cols.describe();\n",
    "    \n",
    "    return summary_df[col].loc['std'] * multiplier;"
   ]
  },
  {
   "cell_type": "code",
   "execution_count": 9,
   "metadata": {},
   "outputs": [
    {
     "data": {
      "text/plain": [
       "79.69759845763012"
      ]
     },
     "execution_count": 9,
     "metadata": {},
     "output_type": "execute_result"
    }
   ],
   "source": [
    "get_num_deviants(my,'wine_servings',1)"
   ]
  },
  {
   "cell_type": "code",
   "execution_count": 10,
   "metadata": {},
   "outputs": [
    {
     "data": {
      "text/plain": [
       "159.39519691526024"
      ]
     },
     "execution_count": 10,
     "metadata": {},
     "output_type": "execute_result"
    }
   ],
   "source": [
    "get_num_deviants(my,'wine_servings',2)"
   ]
  }
 ],
 "metadata": {
  "kernelspec": {
   "display_name": "Python 3",
   "language": "python",
   "name": "python3"
  },
  "language_info": {
   "codemirror_mode": {
    "name": "ipython",
    "version": 3
   },
   "file_extension": ".py",
   "mimetype": "text/x-python",
   "name": "python",
   "nbconvert_exporter": "python",
   "pygments_lexer": "ipython3",
   "version": "3.7.4"
  }
 },
 "nbformat": 4,
 "nbformat_minor": 2
}
