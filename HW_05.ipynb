{
 "cells": [
  {
   "cell_type": "code",
   "execution_count": null,
   "metadata": {},
   "outputs": [],
   "source": [
    "# Author: Judy Zuo\n",
    "# Date: 2020 03 04\n",
    "# CS301-006, Professor Watson\n",
    "# HW05 Solution\n",
    "# data visulations and analysis\n",
    "# link to the git repo :   https://github.com/judy756/HW-CS301\n",
    "# link-to-the-relevant-git-commit \n",
    "#      \n",
    "# name-of-the-branch : master\n"
   ]
  },
  {
   "cell_type": "markdown",
   "metadata": {},
   "source": [
    "# HW 05"
   ]
  },
  {
   "cell_type": "code",
   "execution_count": 1,
   "metadata": {},
   "outputs": [],
   "source": [
    "import pandas as pd\n",
    "pd.set_option('display.max_columns', 999)\n",
    "import numpy as np\n",
    "\n",
    "##Visualization Libraries\n",
    "import matplotlib as mpl\n",
    "import matplotlib.pyplot as plt\n",
    "%matplotlib inline"
   ]
  },
  {
   "cell_type": "markdown",
   "metadata": {},
   "source": [
    "### Problem 1"
   ]
  },
  {
   "cell_type": "code",
   "execution_count": 2,
   "metadata": {},
   "outputs": [
    {
     "data": {
      "text/html": [
       "<div>\n",
       "<style scoped>\n",
       "    .dataframe tbody tr th:only-of-type {\n",
       "        vertical-align: middle;\n",
       "    }\n",
       "\n",
       "    .dataframe tbody tr th {\n",
       "        vertical-align: top;\n",
       "    }\n",
       "\n",
       "    .dataframe thead th {\n",
       "        text-align: right;\n",
       "    }\n",
       "</style>\n",
       "<table border=\"1\" class=\"dataframe\">\n",
       "  <thead>\n",
       "    <tr style=\"text-align: right;\">\n",
       "      <th></th>\n",
       "      <th>Unnamed: 0</th>\n",
       "      <th>Name</th>\n",
       "      <th>Midterm</th>\n",
       "      <th>Final</th>\n",
       "      <th>Attendance</th>\n",
       "      <th>HW</th>\n",
       "      <th>Final Average</th>\n",
       "      <th>Final Letter</th>\n",
       "      <th>Numeric Bin</th>\n",
       "      <th>Majors</th>\n",
       "    </tr>\n",
       "  </thead>\n",
       "  <tbody>\n",
       "    <tr>\n",
       "      <td>0</td>\n",
       "      <td>0</td>\n",
       "      <td>Ariel</td>\n",
       "      <td>89</td>\n",
       "      <td>92</td>\n",
       "      <td>9</td>\n",
       "      <td>9</td>\n",
       "      <td>86.0</td>\n",
       "      <td>B+</td>\n",
       "      <td>80.0</td>\n",
       "      <td>BNFO</td>\n",
       "    </tr>\n",
       "    <tr>\n",
       "      <td>1</td>\n",
       "      <td>1</td>\n",
       "      <td>Brody</td>\n",
       "      <td>92</td>\n",
       "      <td>93</td>\n",
       "      <td>10</td>\n",
       "      <td>9</td>\n",
       "      <td>89.0</td>\n",
       "      <td>A</td>\n",
       "      <td>80.0</td>\n",
       "      <td>BNFO</td>\n",
       "    </tr>\n",
       "    <tr>\n",
       "      <td>2</td>\n",
       "      <td>2</td>\n",
       "      <td>Debra</td>\n",
       "      <td>76</td>\n",
       "      <td>88</td>\n",
       "      <td>8</td>\n",
       "      <td>6</td>\n",
       "      <td>74.0</td>\n",
       "      <td>C+</td>\n",
       "      <td>70.0</td>\n",
       "      <td>MATH</td>\n",
       "    </tr>\n",
       "    <tr>\n",
       "      <td>3</td>\n",
       "      <td>3</td>\n",
       "      <td>Rex</td>\n",
       "      <td>90</td>\n",
       "      <td>83</td>\n",
       "      <td>10</td>\n",
       "      <td>10</td>\n",
       "      <td>88.0</td>\n",
       "      <td>B+</td>\n",
       "      <td>80.0</td>\n",
       "      <td>MATH</td>\n",
       "    </tr>\n",
       "    <tr>\n",
       "      <td>4</td>\n",
       "      <td>4</td>\n",
       "      <td>Jerry</td>\n",
       "      <td>67</td>\n",
       "      <td>85</td>\n",
       "      <td>7</td>\n",
       "      <td>5</td>\n",
       "      <td>66.0</td>\n",
       "      <td>D</td>\n",
       "      <td>60.0</td>\n",
       "      <td>BNFO</td>\n",
       "    </tr>\n",
       "    <tr>\n",
       "      <td>...</td>\n",
       "      <td>...</td>\n",
       "      <td>...</td>\n",
       "      <td>...</td>\n",
       "      <td>...</td>\n",
       "      <td>...</td>\n",
       "      <td>...</td>\n",
       "      <td>...</td>\n",
       "      <td>...</td>\n",
       "      <td>...</td>\n",
       "      <td>...</td>\n",
       "    </tr>\n",
       "    <tr>\n",
       "      <td>145</td>\n",
       "      <td>145</td>\n",
       "      <td>Nicole</td>\n",
       "      <td>97</td>\n",
       "      <td>96</td>\n",
       "      <td>9</td>\n",
       "      <td>8</td>\n",
       "      <td>86.7</td>\n",
       "      <td>B+</td>\n",
       "      <td>80.0</td>\n",
       "      <td>MATH</td>\n",
       "    </tr>\n",
       "    <tr>\n",
       "      <td>146</td>\n",
       "      <td>146</td>\n",
       "      <td>Duncan</td>\n",
       "      <td>99</td>\n",
       "      <td>98</td>\n",
       "      <td>10</td>\n",
       "      <td>8</td>\n",
       "      <td>90.2</td>\n",
       "      <td>A</td>\n",
       "      <td>90.0</td>\n",
       "      <td>BNFO</td>\n",
       "    </tr>\n",
       "    <tr>\n",
       "      <td>147</td>\n",
       "      <td>147</td>\n",
       "      <td>Hope</td>\n",
       "      <td>96</td>\n",
       "      <td>92</td>\n",
       "      <td>10</td>\n",
       "      <td>9</td>\n",
       "      <td>89.8</td>\n",
       "      <td>A</td>\n",
       "      <td>80.0</td>\n",
       "      <td>IT</td>\n",
       "    </tr>\n",
       "    <tr>\n",
       "      <td>148</td>\n",
       "      <td>148</td>\n",
       "      <td>Kiara</td>\n",
       "      <td>93</td>\n",
       "      <td>91</td>\n",
       "      <td>10</td>\n",
       "      <td>10</td>\n",
       "      <td>90.9</td>\n",
       "      <td>A</td>\n",
       "      <td>90.0</td>\n",
       "      <td>CS</td>\n",
       "    </tr>\n",
       "    <tr>\n",
       "      <td>149</td>\n",
       "      <td>149</td>\n",
       "      <td>Zunair</td>\n",
       "      <td>95</td>\n",
       "      <td>82</td>\n",
       "      <td>9</td>\n",
       "      <td>10</td>\n",
       "      <td>86.1</td>\n",
       "      <td>B+</td>\n",
       "      <td>80.0</td>\n",
       "      <td>MATH</td>\n",
       "    </tr>\n",
       "  </tbody>\n",
       "</table>\n",
       "<p>150 rows × 10 columns</p>\n",
       "</div>"
      ],
      "text/plain": [
       "     Unnamed: 0    Name  Midterm  Final  Attendance  HW  Final Average  \\\n",
       "0             0   Ariel       89     92           9   9           86.0   \n",
       "1             1   Brody       92     93          10   9           89.0   \n",
       "2             2   Debra       76     88           8   6           74.0   \n",
       "3             3     Rex       90     83          10  10           88.0   \n",
       "4             4   Jerry       67     85           7   5           66.0   \n",
       "..          ...     ...      ...    ...         ...  ..            ...   \n",
       "145         145  Nicole       97     96           9   8           86.7   \n",
       "146         146  Duncan       99     98          10   8           90.2   \n",
       "147         147    Hope       96     92          10   9           89.8   \n",
       "148         148   Kiara       93     91          10  10           90.9   \n",
       "149         149  Zunair       95     82           9  10           86.1   \n",
       "\n",
       "    Final Letter  Numeric Bin Majors  \n",
       "0             B+         80.0   BNFO  \n",
       "1              A         80.0   BNFO  \n",
       "2             C+         70.0   MATH  \n",
       "3             B+         80.0   MATH  \n",
       "4              D         60.0   BNFO  \n",
       "..           ...          ...    ...  \n",
       "145           B+         80.0   MATH  \n",
       "146            A         90.0   BNFO  \n",
       "147            A         80.0     IT  \n",
       "148            A         90.0     CS  \n",
       "149           B+         80.0   MATH  \n",
       "\n",
       "[150 rows x 10 columns]"
      ]
     },
     "execution_count": 2,
     "metadata": {},
     "output_type": "execute_result"
    }
   ],
   "source": [
    "data_dir = 'C:\\\\Users\\\\judyz\\\\Downloads'\n",
    "file = data_dir + '\\\\student_class.csv'\n",
    "df = pd.read_csv(file)\n",
    "df"
   ]
  },
  {
   "cell_type": "code",
   "execution_count": 3,
   "metadata": {},
   "outputs": [
    {
     "data": {
      "text/html": [
       "<div>\n",
       "<style scoped>\n",
       "    .dataframe tbody tr th:only-of-type {\n",
       "        vertical-align: middle;\n",
       "    }\n",
       "\n",
       "    .dataframe tbody tr th {\n",
       "        vertical-align: top;\n",
       "    }\n",
       "\n",
       "    .dataframe thead th {\n",
       "        text-align: right;\n",
       "    }\n",
       "</style>\n",
       "<table border=\"1\" class=\"dataframe\">\n",
       "  <thead>\n",
       "    <tr style=\"text-align: right;\">\n",
       "      <th></th>\n",
       "      <th>Majors</th>\n",
       "      <th>Midterm</th>\n",
       "      <th>Final</th>\n",
       "      <th>Final Average</th>\n",
       "    </tr>\n",
       "  </thead>\n",
       "  <tbody>\n",
       "    <tr>\n",
       "      <td>0</td>\n",
       "      <td>BNFO</td>\n",
       "      <td>87.5</td>\n",
       "      <td>90.5</td>\n",
       "      <td>75.05</td>\n",
       "    </tr>\n",
       "    <tr>\n",
       "      <td>1</td>\n",
       "      <td>CS</td>\n",
       "      <td>82.0</td>\n",
       "      <td>74.5</td>\n",
       "      <td>72.70</td>\n",
       "    </tr>\n",
       "    <tr>\n",
       "      <td>2</td>\n",
       "      <td>IS</td>\n",
       "      <td>73.0</td>\n",
       "      <td>81.0</td>\n",
       "      <td>71.80</td>\n",
       "    </tr>\n",
       "    <tr>\n",
       "      <td>3</td>\n",
       "      <td>IT</td>\n",
       "      <td>82.5</td>\n",
       "      <td>80.5</td>\n",
       "      <td>74.80</td>\n",
       "    </tr>\n",
       "    <tr>\n",
       "      <td>4</td>\n",
       "      <td>MATH</td>\n",
       "      <td>84.5</td>\n",
       "      <td>80.5</td>\n",
       "      <td>74.30</td>\n",
       "    </tr>\n",
       "  </tbody>\n",
       "</table>\n",
       "</div>"
      ],
      "text/plain": [
       "  Majors  Midterm  Final  Final Average\n",
       "0   BNFO     87.5   90.5          75.05\n",
       "1     CS     82.0   74.5          72.70\n",
       "2     IS     73.0   81.0          71.80\n",
       "3     IT     82.5   80.5          74.80\n",
       "4   MATH     84.5   80.5          74.30"
      ]
     },
     "execution_count": 3,
     "metadata": {},
     "output_type": "execute_result"
    }
   ],
   "source": [
    "mid_med = df.groupby('Majors')['Midterm'].median().reset_index()\n",
    "fin_med = df.groupby('Majors')['Final'].median().reset_index()\n",
    "fin_avg_med = df.groupby('Majors')['Final Average'].median().reset_index()\n",
    "med = mid_med.merge(fin_med, on='Majors', how='inner')\n",
    "med = med.merge(fin_avg_med, on = 'Majors', how = 'inner')\n",
    "med\n"
   ]
  },
  {
   "cell_type": "code",
   "execution_count": 4,
   "metadata": {},
   "outputs": [
    {
     "data": {
      "image/png": "[encoded data removed]",
      "text/plain": [
       "<Figure size 864x432 with 1 Axes>"
      ]
     },
     "metadata": {
      "needs_background": "light"
     },
     "output_type": "display_data"
    }
   ],
   "source": [
    "label_loc = np.arange(med.shape[0])\n",
    "labs = ['BNFO','CS','IS','IT','MATH']\n",
    "w = 0.2\n",
    "plt.bar(label_loc - w, med['Midterm'], width=w, label='Midterm', color='red')\n",
    "plt.bar(label_loc, med['Final'], width=w, label='Final', color='green')\n",
    "plt.bar(label_loc + w, med['Final Average'], width=w, label='Final Average', color='blue')\n",
    "plt.gcf().set_size_inches(12, 6)\n",
    "plt.title('Median Midterm, Final and Final Average Scores')\n",
    "plt.xlabel('Major')\n",
    "plt.ylabel('Median Score')\n",
    "plt.xticks(label_loc, labels=labs)\n",
    "plt.legend()\n",
    "plt.show()"
   ]
  },
  {
   "cell_type": "markdown",
   "metadata": {},
   "source": [
    "Data Items: (x-axis) majors                                                              \n",
    "Attributes: (y-axis) median midterm, final and final average scores ranging from [0, 100]                                       \n",
    "Marks: bars                                                                  \n",
    "Channels: vertical bars with different colors ti indicate different scores that are group by majors"
   ]
  },
  {
   "cell_type": "markdown",
   "metadata": {},
   "source": [
    "BNFO major is doing well in Midterm and Final since the bars are higher than the rest. However, in Final Average, they all have about the same median scores. Overall, all majors seems to be doing about the same."
   ]
  },
  {
   "cell_type": "markdown",
   "metadata": {},
   "source": [
    "### Problem 2"
   ]
  },
  {
   "cell_type": "code",
   "execution_count": 5,
   "metadata": {},
   "outputs": [
    {
     "data": {
      "image/png": "[encoded data removed]",
      "text/plain": [
       "<Figure size 864x432 with 1 Axes>"
      ]
     },
     "metadata": {
      "needs_background": "light"
     },
     "output_type": "display_data"
    }
   ],
   "source": [
    "n_bins = [40, 50, 60, 70, 80, 90, 100]\n",
    "plt.hist(df['Numeric Bin'], bins=n_bins)\n",
    "plt.gcf().set_size_inches(12, 6)\n",
    "plt.title('Number of Students in Each Grade Bin')\n",
    "plt.xlabel('Grade')\n",
    "plt.ylabel('Frequency')\n",
    "plt.show()"
   ]
  },
  {
   "cell_type": "markdown",
   "metadata": {},
   "source": [
    "Data Items: grades                                                            \n",
    "Attributes: frequency of the grades                                             \n",
    "Marks: bars                                                                    \n",
    "Channels: vertical bars that are closely together or continuous "
   ]
  },
  {
   "cell_type": "markdown",
   "metadata": {},
   "source": [
    "The distribution is left skewed. \n",
    "I would also add in a best fit line to better show the distribution"
   ]
  },
  {
   "cell_type": "markdown",
   "metadata": {},
   "source": [
    "### Problem 3"
   ]
  },
  {
   "cell_type": "code",
   "execution_count": 9,
   "metadata": {},
   "outputs": [
    {
     "data": {
      "image/png": "[encoded data removed]",
      "text/plain": [
       "<Figure size 864x432 with 1 Axes>"
      ]
     },
     "metadata": {
      "needs_background": "light"
     },
     "output_type": "display_data"
    }
   ],
   "source": [
    "plt.plot(df['Midterm'], df['Final Average'], 'o', label='Midterm')\n",
    "plt.plot(df['Final'], df['Final Average'], 'o', label='Final')\n",
    "plt.gcf().set_size_inches(12, 6)\n",
    "plt.ylabel('Final Average')\n",
    "plt.xlabel('Exam Score')\n",
    "plt.title('Exams vs Final Average')\n",
    "plt.legend()\n",
    "plt.show()"
   ]
  },
  {
   "cell_type": "markdown",
   "metadata": {},
   "source": [
    "Data Items: scores (midterm and final)                                         \n",
    "Attributes: corresponding final average ranging from [40, 100]                 \n",
    "Marks: points or dots                                                          \n",
    "Channels: different colors of dots to identify which exam"
   ]
  },
  {
   "cell_type": "markdown",
   "metadata": {},
   "source": [
    "Yes, the graph does somehow indicate a pattern. The graph somewhat shows an increasing trend, meaning a higher exam score leads to a higher final average. However, the points are not closely gather so the slope of the trendline will be positive but the value or magnitude will be small."
   ]
  },
  {
   "cell_type": "code",
   "execution_count": null,
   "metadata": {},
   "outputs": [],
   "source": []
  }
 ],
 "metadata": {
  "kernelspec": {
   "display_name": "Python 3",
   "language": "python",
   "name": "python3"
  },
  "language_info": {
   "codemirror_mode": {
    "name": "ipython",
    "version": 3
   },
   "file_extension": ".py",
   "mimetype": "text/x-python",
   "name": "python",
   "nbconvert_exporter": "python",
   "pygments_lexer": "ipython3",
   "version": "3.7.4"
  }
 },
 "nbformat": 4,
 "nbformat_minor": 2
}
